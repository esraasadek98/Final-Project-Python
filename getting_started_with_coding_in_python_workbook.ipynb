{
  "nbformat": 4,
  "nbformat_minor": 0,
  "metadata": {
    "colab": {
      "provenance": [],
      "include_colab_link": true
    },
    "kernelspec": {
      "name": "python3",
      "display_name": "Python 3"
    }
  },
  "cells": [
    {
      "cell_type": "markdown",
      "metadata": {
        "id": "view-in-github",
        "colab_type": "text"
      },
      "source": [
        "<a href=\"https://colab.research.google.com/github/esraasadek98/Final-Project-Python/blob/main/getting_started_with_coding_in_python_workbook.ipynb\" target=\"_parent\"><img src=\"https://colab.research.google.com/assets/colab-badge.svg\" alt=\"Open In Colab\"/></a>"
      ]
    },
    {
      "cell_type": "markdown",
      "metadata": {
        "id": "fdlxMt0xQMng"
      },
      "source": [
        "# Getting started with coding in Python\n",
        "\n",
        "Welcome to the workbook for the **Getting started with coding in Python** session. You can work through these exercises whether or not you've attended the session, but you might find the resources on the [Coding Practical Guide](https://subjectguides.york.ac.uk/coding) useful if you are new to the concepts covered, especially the [Introduction to Coding](https://subjectguides.york.ac.uk/coding/introduction) resources.\n",
        "\n",
        "This session is designed to be an introduction to some of the key concepts in Python for beginners, without focusing on any particular area (e.g. data analysis, creating software, machine learning) that you might use Python for. On the accompanying [Python webpage](https://subjectguides.york.ac.uk/coding/python) on the Coding Practical Guide you'll find links to further materials and courses for learning Python in more depth.\n",
        "\n",
        "**If you haven't already, at this point go to File > Save a copy in Drive so you have your own version of this notebook to run and edit Python code in. You'll need to log in to a Google account to do this.**\n",
        "\n",
        "**It is also possible to download this notebook in .ipynb format and use with Jupyter notebooks, instead of through Google Drive.**"
      ]
    },
    {
      "cell_type": "code",
      "metadata": {
        "id": "2zU377dSO1Km"
      },
      "source": [
        "#Click on this cell and hit the 'run' button to run your first bit of Python!\n",
        "\n",
        "print('Hello world!')"
      ],
      "execution_count": null,
      "outputs": []
    },
    {
      "cell_type": "markdown",
      "metadata": {
        "id": "8k5alMs4Gs9K"
      },
      "source": [
        "## Using this Colab notebook\n",
        "\n",
        "This workbook is running in Google Colaboratory, or Colab for short. These Colab notebooks allow you to write and run Python in your web browser without needing to set anything else up, making them very useful for getting started quickly and easily with Python.\n",
        "\n",
        "If you're interested in finding out more about Colab notebooks, Google have a [Welcome to Colaboratory](https://colab.research.google.com/notebooks/intro.ipynb) notebook and an [Overview of Colaboratory Features notebook](https://colab.research.google.com/notebooks/basic_features_overview.ipynb) (though we will be going over those features in a moment so you can use this workbook).\n",
        "\n",
        "**Note:** Colab notebooks are based on [Jupyter notebooks](https://jupyter.org/), a common way for Python users to run Python easily for a range of tasks including data science and machine learning. Colab notebooks are compatible with Jupyter as they are stored in the same .ipynb format."
      ]
    },
    {
      "cell_type": "markdown",
      "metadata": {
        "id": "v15DV6UxKx8b"
      },
      "source": [
        "###Cells\n",
        "Notebooks are made up of 'cells', which are the different sections of the notebook. These contain either explanatory text (like this one) or code (like the one below).\n",
        "\n",
        "Code cells can be 'run' to make the code execute, so you can see what it does. To run a code cell, click on the cell and either:\n",
        "\n",
        "*   Click on the **Play icon** on the left hand side\n",
        "*   Press **Ctrl+Enter (or CMD on a Mac)** to run the cell.\n",
        "\n",
        "You can also use **Shift+Enter** to run the cell and immediately move to the cell below it (or add a new one if there's not a cell below it).\n",
        "\n",
        "**Note:** the first time you run a cell in a notebook, it will take a while as the notebook has to connect - you'll see a status bar in the top right hand corner under the sharing button.\n",
        "\n",
        "New cells can be added using the **+Code** and **+Text** buttons at the top of the screen. On your own copy of this workbook, you can add new text cells if you want to add more notes or add extra code cells to try out different bits of code.\n",
        "\n",
        "Colab notebooks are saved in [Google Drive](https://subjectguides.york.ac.uk/skills/google-drive) so they save as they go along and have revision history - File > Revision history shows editing history.\n",
        "\n"
      ]
    },
    {
      "cell_type": "code",
      "metadata": {
        "id": "dzfwGfRFsxYH"
      },
      "source": [
        "#This is a code cell\n",
        "\n",
        "#Any line starting with a hash symbol in Python is a comment - not for the computer to read\n",
        "#This allows you to add notes to yourself around what the code does\n",
        "#Test this out by running this cell - nothing should happen (unlike the first example where you should've seen 'Hello World' printed)\n",
        "\n",
        "#print('You should not see this below when you run the code')"
      ],
      "execution_count": null,
      "outputs": []
    },
    {
      "cell_type": "markdown",
      "metadata": {
        "id": "Vt-cZHritP6s"
      },
      "source": [
        "**Challenge** - see if you can change line 7 to make it so that the line of code will run, and then run that cell again."
      ]
    },
    {
      "cell_type": "markdown",
      "metadata": {
        "id": "_6WgrH18QeWl"
      },
      "source": [
        "## Variables\n",
        "\n",
        "Run the code below:"
      ]
    },
    {
      "cell_type": "code",
      "metadata": {
        "id": "-XVNAmyGQk02"
      },
      "source": [
        "5 * 25"
      ],
      "execution_count": null,
      "outputs": []
    },
    {
      "cell_type": "markdown",
      "metadata": {
        "id": "TMV9zKLNvJhr"
      },
      "source": [
        "You'll see that Python can do the calculation and output the answer. However, we have no way of using that answer for anything else, as it is not stored in the computer's memory.\n",
        "\n",
        "This time, we're going to assign a variable to be the result of that calculation. A variable is a value stored in a computer's memory and referenced by its name."
      ]
    },
    {
      "cell_type": "code",
      "metadata": {
        "id": "BFSgCT0Lv81P"
      },
      "source": [
        "number = 5 * 25\n",
        "other_number = number - 10"
      ],
      "execution_count": null,
      "outputs": []
    },
    {
      "cell_type": "markdown",
      "metadata": {
        "id": "MeYLc1W8wqq7"
      },
      "source": [
        "When you run that cell, you won't see any output, as we've just stored a value rather than do anything with it that would have an output. However, we can test to see what kind of value is held by those variables.\n",
        "\n",
        "**type()** allows us to see the data type of any object. In Python, [data types](https://www.w3schools.com/python/python_datatypes.asp) are important, as they tell the computer what kind of data it is working with. This helps to make sure it isn't trying to do something with a piece of information that isn't compatible, like trying to multiple together pieces of text."
      ]
    },
    {
      "cell_type": "code",
      "metadata": {
        "id": "Ip4n5IVjxFeu"
      },
      "source": [
        "number = 5 * 25\n",
        "other_number = number - 10\n",
        "type(other_number)"
      ],
      "execution_count": null,
      "outputs": []
    },
    {
      "cell_type": "markdown",
      "metadata": {
        "id": "ieMsV-Ngxn5V"
      },
      "source": [
        "You should see 'int' displayed from running the code - that means that the data stored in the variable 'number' is an integer, or a whole number.\n",
        "\n",
        "Python has various data types, but the key ones to know initially are: **strings**, **integers**, **floating point numbers**, **booleans**, and **lists**.\n",
        "\n",
        "Using **type()** may not seem useful right now, but it can be handy when you're trying to work out why something isn't working - you can check if the variable holds the type of data you're expecting (certain actions can only be done on certain data types).\n",
        "\n",
        "Below are some variables containing different data types. Try adding a new line of code to find out the data type of 'party' and running the cell. Then modify to check the data type of variables 'fun' and then 'biscuits'. If you don't recognise one of the data types (or the way they are written using quotation marks or not), take a look at [this Python Data Types page on w3schools.com](https://www.w3schools.com/python/python_datatypes.asp).\n"
      ]
    },
    {
      "cell_type": "code",
      "metadata": {
        "id": "OjOQSt2AxnbX"
      },
      "source": [
        "party = \"right here\"\n",
        "fun = True\n",
        "biscuits = 2.5"
      ],
      "execution_count": null,
      "outputs": []
    },
    {
      "cell_type": "markdown",
      "metadata": {
        "id": "kLiKCAFIEFIa"
      },
      "source": [
        "If you tried to put multiple **type()** commands in the cell, you may have noticed that you only saw the result of the final one when you ran it. This is why it is useful to store the result of actions in a variable which you can then display using the **print()** statement.\n",
        "\n",
        "The **print()** statement is a way of checking values, as well as outputting results for simple programs. Anything you want to be printed on the screen when the code is run should go between the brackets after the word 'print'.\n",
        "\n",
        "To print text, you need to use the **string** data type, which means any text must go inside single or double quotes."
      ]
    },
    {
      "cell_type": "code",
      "metadata": {
        "id": "s_hH4hMCF94Z"
      },
      "source": [
        "print('Hello everyone')\n",
        "print(\"This is a string.\")"
      ],
      "execution_count": null,
      "outputs": []
    },
    {
      "cell_type": "markdown",
      "metadata": {
        "id": "WilN-Q0-GIso"
      },
      "source": [
        "You can also print the value of variables using a print statement. Try adding to the code below to print the value of the variable 'age'."
      ]
    },
    {
      "cell_type": "code",
      "metadata": {
        "id": "Vf1GQYiRGTnu"
      },
      "source": [
        "age = 27"
      ],
      "execution_count": null,
      "outputs": []
    },
    {
      "cell_type": "markdown",
      "metadata": {
        "id": "SeMkk6H9GmMr"
      },
      "source": [
        "If you want to print more than just a single variable or value, you can join values together using **concatenation**. This means using the + plus symbol to add parts together. You will need to make sure you include any spaces between words that are needed as well.\n",
        "\n",
        "However, this only works with strings, so if you want to join together different kinds of data, you have to convert them into a string using the **str()** method, as seen in the examples below. Run these examples and see if the output matches what you'd expect."
      ]
    },
    {
      "cell_type": "code",
      "metadata": {
        "id": "fduDtOwHG-W2"
      },
      "source": [
        "height = 160\n",
        "print('The height is ' + str(height) + 'cm.')"
      ],
      "execution_count": null,
      "outputs": []
    },
    {
      "cell_type": "code",
      "metadata": {
        "id": "LAE5GeHDEt8M"
      },
      "source": [
        "song = 'Twinkle twinkle little star'\n",
        "num = 3\n",
        "print('The song ' + song + ' should be played ' + str(num) + ' times.')"
      ],
      "execution_count": null,
      "outputs": []
    },
    {
      "cell_type": "markdown",
      "metadata": {
        "id": "ymGvgIRAFVT4"
      },
      "source": [
        "The code examples we've used so far haven't included any comments to explain what they're doing. Go back and add any explanatory comments that would help you remember what the code is doing if you looked back at them in the future.\n",
        "\n"
      ]
    },
    {
      "cell_type": "markdown",
      "metadata": {
        "id": "_INU9LkSIdqe"
      },
      "source": [
        "### Lists\n",
        "\n",
        "Now that we've looked at variables that have a single value, we're going to have a quick play with lists, which can contain multiple values. These will be useful later when we actually try and create some little programs, as they allow you to easily move through multiple values.\n",
        "\n",
        "Lists in Python are created by writing them in square brackets, separated by commas. They can contain other data types like strings, numbers, booleans, and even other lists!\n",
        "\n",
        "Individual items in a list can be accessed using an index number. These reference numbers start from 0 rather than 1, which can making counting a list a bit tricky!\n",
        "\n",
        "Run the following code and see what the output of each of the print statements is. Are they what you expect? Remember that the reference number starts at 0."
      ]
    },
    {
      "cell_type": "code",
      "metadata": {
        "id": "dRtwpuCNJaMG"
      },
      "source": [
        "# testing out lists\n",
        "icecream_list = ['chocolate', 'vanilla', 'strawberry', 'mint choc chip', 'cookie dough']\n",
        "\n",
        "print(icecream_list)\n",
        "print(icecream_list[2])"
      ],
      "execution_count": null,
      "outputs": []
    },
    {
      "cell_type": "markdown",
      "metadata": {
        "id": "tI6iUjn9KfAC"
      },
      "source": [
        "You can add and remove items from a list too, using the **append()** and **pop()** statements. Appending can be particularly useful, as you can get values from elsewhere (or from user input) and then add them to your list."
      ]
    },
    {
      "cell_type": "code",
      "metadata": {
        "id": "BpWcdYogLDTN"
      },
      "source": [
        "# list of gift ideas\n",
        "gift_ideas = ['pen','chocolate','money']\n",
        "print(gift_ideas)\n",
        "# adding more gift ideas\n",
        "gift_ideas.append('flowers')\n",
        "gift_ideas.append('rocket')\n",
        "print(gift_ideas)"
      ],
      "execution_count": null,
      "outputs": []
    },
    {
      "cell_type": "markdown",
      "metadata": {
        "id": "3SPEXR6qLdT7"
      },
      "source": [
        "## Variables exercises\n",
        "\n",
        "Before we move on to doing more things with our variables, here's a chance to try out what you've learnt so far. If you get stuck, look back at the code examples or search online (w3schools.com is a good place to search)."
      ]
    },
    {
      "cell_type": "markdown",
      "metadata": {
        "id": "ni6de8gWL0ex"
      },
      "source": [
        "### Exercise 1\n",
        "\n",
        "The code below contains an attempt to make a program that displays quiz questions and answers, but it contains some mistakes. Can you fix all the mistakes so it prints out all four lines?\n",
        "\n",
        "If you run the code as it is, you'll get error messages that may help you find the fixes (though sometimes these can be confusing to interpret)."
      ]
    },
    {
      "cell_type": "code",
      "metadata": {
        "id": "m5cCm0RWMMsC"
      },
      "source": [
        "#quiz app\n",
        "\n",
        "quiz_answer_1 = 'Portugal'\n",
        "quiz_anwer_2 = 365\n",
        "\n",
        "print('Which country has the capital city Lisbon?\")\n",
        "print('Answer:' & quiz_answer_1)\n",
        "print('How many days are there in a year?')\n",
        "print('Answer: ' + quiz_answer_2)"
      ],
      "execution_count": null,
      "outputs": []
    },
    {
      "cell_type": "markdown",
      "metadata": {
        "id": "XPXtqbugPYPo"
      },
      "source": [
        "### Exercise 2\n",
        "\n",
        "Now you're going to make a program for calculating the age of a dog in dog years (useful, I know).\n",
        "\n",
        "You'll need to start with the age of the dog in regular years, then multiply that by 7, and print out the result to the user. Below you'll find some comments as hints for the lines of codes you'll need."
      ]
    },
    {
      "cell_type": "code",
      "metadata": {
        "id": "WJtyDlepQihU"
      },
      "source": [
        "#first, create a variable for the dog's age in regular years and assign it a value (e.g. 4)\n",
        "\n",
        "#calculate the new value - making sure you store that in a new variable\n",
        "\n",
        "#print the result out to the user - consider if you want to add any explanatory text\n"
      ],
      "execution_count": null,
      "outputs": []
    },
    {
      "cell_type": "markdown",
      "metadata": {
        "id": "RUKxMAa5Q913"
      },
      "source": [
        "### Exercise 3\n",
        "\n",
        "Below is a list of  digital tools. Print that list out, then remove the value 'Outlook' and add the value 'Gmail'. Print the list again to prove it has changed.\n",
        "\n",
        "If you're not sure how to add and remove values from a list, check out the example above and the help on [w3schools](https://www.w3schools.com/python/python_lists.asp). The **pop()** method can be used to remove the last item from a list."
      ]
    },
    {
      "cell_type": "code",
      "metadata": {
        "id": "Y7b8Qy-KRSRw"
      },
      "source": [
        "# digital tools list\n",
        "digital_tools = ['Word','Google Drive','EndNote','Zoom','Outlook']\n",
        "# add more code below\n"
      ],
      "execution_count": null,
      "outputs": []
    },
    {
      "cell_type": "markdown",
      "metadata": {
        "id": "x6uTlhY4R69r"
      },
      "source": [
        "## User input\n",
        "\n",
        "So far, to get values from a user, that user would need to understand Python and how to change the values of variables directly in the code. Obviously, this isn't ideal.\n",
        "\n",
        "Luckily, there are methods of getting information from users built into Python. The **input()** statement can be used to gather text input from the user, which you can then do things with using Python.\n",
        "\n",
        "To use the **input()** statement, you'll want to assign the result to a variable, and put any prompt text between the two brackets, as in the following example - run it and see what happens!\n",
        "\n"
      ]
    },
    {
      "cell_type": "code",
      "metadata": {
        "id": "slHuiLvmVpI3"
      },
      "source": [
        "name = input('What is your name?')\n",
        "print('Hello ' + name + '!')"
      ],
      "execution_count": null,
      "outputs": []
    },
    {
      "cell_type": "markdown",
      "metadata": {
        "id": "p_E2MLvpWDYE"
      },
      "source": [
        "Anything gathered using **input()** is a string, so if you want to do calculations with the result, you'll need to convert into a number using **int()** or **float()** (depending on whether you're expecting just whole numbers, or possibly decimals)."
      ]
    },
    {
      "cell_type": "code",
      "metadata": {
        "id": "svNKl8sZWpGd"
      },
      "source": [
        "cookies = input('How many cookies would you like? ')\n",
        "actual_offer = int(cookies) - 2\n",
        "print('I can offer you ' + str(actual_offer) + ' cookies.')"
      ],
      "execution_count": null,
      "outputs": []
    },
    {
      "cell_type": "markdown",
      "metadata": {
        "id": "146dR0lLXdJd"
      },
      "source": [
        "In the previous example, you'll see that the user input has to be converted into an integer to minus 2 from it, and then the result has to be converted back into a string to add to the **print()** statement.\n",
        "\n",
        "In Python, converting between data types is called 'typecasting'.\n",
        "\n",
        "### Exercise 4\n",
        "\n",
        "In the code cell below, try adapting your dogs years program from **Exercise 2** so that you get the initial age variable from the user, convert it into an integer, and work with that number.\n",
        "\n",
        "Remember you can copy and paste content from code cells into other code cells so you don't have to start from scratch!"
      ]
    },
    {
      "cell_type": "code",
      "metadata": {
        "id": "Ne3Uc9YyaApZ"
      },
      "source": [
        "# dog years calculator with user input\n"
      ],
      "execution_count": null,
      "outputs": []
    },
    {
      "cell_type": "markdown",
      "metadata": {
        "id": "UzCjlYN4YJGt"
      },
      "source": [
        "## Loops\n",
        "\n",
        "One of the selling points of coding is the ability to repeat actions so they don't have to be done manually, or individual code doesn't need to be written for each item. Instead, you can make the code 'loop' through a set of values.\n",
        "\n",
        "Loops repeat a section of code **for** a particular set of values, or **while** a statement is true. Therefore, there are **for** loops and **while** loops.\n",
        "\n",
        "Here's the loop example from the slides. Run it to see the result.\n"
      ]
    },
    {
      "cell_type": "code",
      "metadata": {
        "id": "tzJC1dMaa4sF"
      },
      "source": [
        "shopping_list = ['bread', 'cheese', 'apples', 'biscuits']\n",
        "for item in shopping_list:\n",
        "  print(item)"
      ],
      "execution_count": null,
      "outputs": []
    },
    {
      "cell_type": "markdown",
      "metadata": {
        "id": "U06UraNSbAdH"
      },
      "source": [
        "To create a **for** loop so you can loop through a list in Python, you write the 'for' keyword, then create a name for the variable that stands for each of the parts of the list in turn, then use the 'in' keyword to specify the list to loop through, then finish the line with a colon.\n",
        "\n",
        "The notebook should then automatically indent the next line. Anything that needs to occur within the loop (so is repeated for each item in the list) needs to be indented, but it can be on multiple lines as long as they are all indented.\n",
        "\n",
        "You don't need to do anything except stop indenting the lines of code to tell Python that it is the end of the code within the loop. If you're used to other coding languages, this may be confusing, as others may require you to mark the ending using punctuation or similar.\n",
        "\n",
        "### Exercise 5\n",
        "\n",
        "Below is another list. Try creating your own **for** loop to print each item on the menu."
      ]
    },
    {
      "cell_type": "code",
      "metadata": {
        "id": "NBT94eWFdtPE"
      },
      "source": [
        "# menu list\n",
        "menu = ['toast', 'eggs', 'cereal', 'pastries', 'coffee']\n",
        "# create loop here\n"
      ],
      "execution_count": null,
      "outputs": []
    },
    {
      "cell_type": "markdown",
      "metadata": {
        "id": "SkkAXIDreWZe"
      },
      "source": [
        "### While loops\n",
        "\n",
        "Rather than having a predefined number or set of values to work through, **while** loops evaluate a condition each time they run, and if the condition is True, the loop runs that time.\n",
        "\n",
        "This makes them ideal for checking values, such as checking user input, or working through a list until you reach a value that matches a particular criteria.\n",
        "\n",
        "**While** loops start with the 'while' keyword, then a conditional statement (so a statement that the computer needs to evaluate to see if it is true) and then a colon. Just like a **for** loop, the code that should run 'inside' the loop should be indented.\n",
        "\n",
        "Run the following example and see if you can understand how it works. Remember that any line starting with a hash is a comment explaining the code, not part of the actual code."
      ]
    },
    {
      "cell_type": "code",
      "metadata": {
        "id": "npmVyY1Ff2Xu"
      },
      "source": [
        "# code app with user input\n",
        "# correct answer variable\n",
        "quiz_answer = 'Portugal'\n",
        "# empty string variable for storing the user's answer\n",
        "user_answer = ''\n",
        "\n",
        "#while loop for the quiz - != means 'does not equal'\n",
        "while user_answer != quiz_answer:\n",
        "  user_answer = input('Which country has the capital city Lisbon? ')\n",
        "\n",
        "#loop is over - so this code only runs once user_answer does equal quiz_answer\n",
        "print('Correct, it is Portugal!')"
      ],
      "execution_count": null,
      "outputs": []
    },
    {
      "cell_type": "markdown",
      "metadata": {
        "id": "wHM7HraQiDHy"
      },
      "source": [
        "### Exercise 6\n",
        "\n",
        "**While** loops are also very good places for creating Knock, Knock jokes, as long as the user knows how to respond!\n",
        "\n",
        "Below is the start of the program to write a Knock, Knock joke that the user responds to. You'll need to finish it off by writing your own [Knock, Knock joke](https://en.wikipedia.org/wiki/Knock-knock_joke) or searching online for a good joke to use.\n",
        "\n",
        "Complete the code by writing a second **while** loop to prompt the user with a response to 'Who's there?' and trying to get the user to respond with the next line of the joke. Don't forget to then print the final line of the joke once the second **while** loop is over and keep an eye out for indents!"
      ]
    },
    {
      "cell_type": "code",
      "metadata": {
        "id": "aUdbZ9tZic3V"
      },
      "source": [
        "# half-finished knock knock joke\n",
        "\n",
        "line_1 = ''\n",
        "while line_1 != \"Who's there?\":\n",
        "  line_1 = input('Knock, knock ')\n",
        "\n",
        "line_2 = ''"
      ],
      "execution_count": null,
      "outputs": []
    },
    {
      "cell_type": "markdown",
      "metadata": {
        "id": "qWw0xsJcjjdx"
      },
      "source": [
        "## If conditions\n",
        "\n",
        "Conditions are used to decide if sections of code should run, and come in the format 'if statement is true, do X'.\n",
        "\n",
        "If you've ever done any coding before, used spreadsheet formulae, or made flowcharts before, you may have seen versions of if conditions before. Actually, that statement could be written as an if condition...\n",
        "\n",
        "```\n",
        "if (you've done coding before):\n",
        "  You may have seen an if condition before\n",
        "elif (you've used spreadsheet formulae):\n",
        "  You may have tried out IF()\n",
        "elif (you've made a flowchart):\n",
        "  You may have used yes/no branching which is similar\n",
        "else:\n",
        "  You may be new to if conditions\n",
        "```\n",
        "What is written there is in 'pseudocode', which is regular language written in a code structure to get a sense of what you'd need to code.\n",
        "\n",
        "As you may have gathered, in Python if conditions are written starting with the keyword 'if' and then followed by a condition that the computer evaluates, and then a colon. As with loops, any code that should occur if that condition is True should be indented.\n",
        "\n",
        "At this stage, you can either end your if condition there, or add more conditions to the code. You can either use the 'else' keyword followed by a colon to add some code to add if the condition is False, or use the 'elif' (else if) keyword followed by another condition and a colon to add another decision into the mix.\n",
        "\n",
        "Conditions can seem a bit tricky at first, but the key is to work out before you write any code what is the decision that needs to be made, and what should happen if it is true and, if relevant, if it isn't.\n",
        "\n",
        "Run the following example which is from the slides and see what happens. What then happens if you change the value of my_number and run it again?\n",
        "\n",
        "\n"
      ]
    },
    {
      "cell_type": "code",
      "metadata": {
        "id": "1NGHyjraniFD"
      },
      "source": [
        "# condition example from slides\n",
        "my_number = 7\n",
        "\n",
        "if (my_number < 10):\n",
        "  print('less than 10')\n",
        "else:\n",
        "  print('equal to or more than 10')"
      ],
      "execution_count": null,
      "outputs": []
    },
    {
      "cell_type": "markdown",
      "metadata": {
        "id": "Kw3yaQhsnyCo"
      },
      "source": [
        "Now we know about user input, we can improve this example to be a bit more functional as a program. Instead of having to manually change the value of 'my_number', the user just enters a number each time the code runs."
      ]
    },
    {
      "cell_type": "code",
      "metadata": {
        "id": "0ACpMuqEn3tL"
      },
      "source": [
        "# condition example with user input\n",
        "\n",
        "#asking user for input\n",
        "my_number = input('Enter a whole number: ')\n",
        "\n",
        "#if condition - notice that the number has to be turned into an integer as input() creates a string\n",
        "if (int(my_number) < 10):\n",
        "  print('less than 10')\n",
        "else:\n",
        "  print('equal to or more than 10')"
      ],
      "execution_count": null,
      "outputs": []
    },
    {
      "cell_type": "markdown",
      "metadata": {
        "id": "lSS-VzCcN84k"
      },
      "source": [
        "Conditions can be used to build simple chatbots - that is, programs that can respond to particular user interactions. Below is a simple example - read through and see if you can work out what it does, then run it to check."
      ]
    },
    {
      "cell_type": "code",
      "metadata": {
        "id": "wt4epie6OJPn"
      },
      "source": [
        "#simple chatbot\n",
        "chat = input('Hello! Talk to me. ')\n",
        "\n",
        "if chat == 'hello' or chat == 'Hello':\n",
        "  print('Nice to meet you!')\n",
        "elif chat == \"What's your name?\" or chat == 'Who are you?':\n",
        "  print(\"Oh, I'm Hal.\")\n",
        "elif chat == 'Hey Alexa':\n",
        "  print(\"No, that's not me.\")\n",
        "else:\n",
        "  print(\"I'm sorry, I can't do that.\")"
      ],
      "execution_count": null,
      "outputs": []
    },
    {
      "cell_type": "markdown",
      "metadata": {
        "id": "WAnL4LOUPYlj"
      },
      "source": [
        "### Exercise 7\n",
        "\n",
        "Now you've had a look at those examples, it's time to play around with if conditions.\n",
        "\n",
        "You're going to create your own chatbot. The initial user input is below if you want to use that, but you could also customise it. Here are some suggestions for what you might make your chatbot do:\n",
        "\n",
        "\n",
        "*   Offer the user help with common problems\n",
        "*   Get two variables and do a calculation (or even also ask the user which calculation to do)\n",
        "*   Give the user options for recommendations for different kinds of media\n",
        "*   Learn the user's name and then ask them another question\n",
        "\n",
        "Don't forget those colons and indents! If you get stuck, look back at the examples above or search online for suggestions.\n",
        "\n",
        "\n",
        "\n"
      ]
    },
    {
      "cell_type": "code",
      "metadata": {
        "id": "CovIcDxmRJq5"
      },
      "source": [
        "#your chatbot\n",
        "chat = input(\"Hello! Talk to me. \")\n"
      ],
      "execution_count": null,
      "outputs": []
    },
    {
      "cell_type": "markdown",
      "metadata": {
        "id": "Idnw9I9xSJve"
      },
      "source": [
        "## Functions\n",
        "\n",
        "The final thing we're going to cover in this workbook are functions. These are a crucial element of coding as functions allow you to create named sections of code that can be reused whenever needed by 'calling' them by their name.\n",
        "\n",
        "Functions are good for not repeating code unnecessarily, and ensuring that you only have one place to update that code if it needs changing. They're also a good way to divide your programs into smaller parts, for readability and testing.\n",
        "\n",
        "Functions are created using the keyword 'def' and then naming the function something sensible, followed immediately by an open and closed brackets (these have a purpose - they allow you to 'pass' or send values into the function from outside) and then a colon. As you might be able to guess by now, any code 'inside' the function needs to be indented.\n",
        "\n",
        "Once created, a function will not run unless called. So if you just create and hit run, nothing will happen. You have to 'call' the function using the name you gave it when you defined it, as shown in the example below."
      ]
    },
    {
      "cell_type": "code",
      "metadata": {
        "id": "YjeeLxRdUZ82"
      },
      "source": [
        "#function example\n",
        "\n",
        "#defining the function\n",
        "def ros_guil_coin_toss():\n",
        "    coin = \"heads\"\n",
        "    print(coin)\n",
        "\n",
        "#'calling' the function 3 times\n",
        "ros_guil_coin_toss()\n",
        "ros_guil_coin_toss()\n",
        "ros_guil_coin_toss()"
      ],
      "execution_count": null,
      "outputs": []
    },
    {
      "cell_type": "markdown",
      "metadata": {
        "id": "YkIUhLA3Vbqb"
      },
      "source": [
        "As you may have noticed, that coin toss isn't particularly useful for anything except displaying how functions work. To make a real coin toss, we'll need to bring in a final final element of Python, which is libraries.\n",
        "\n",
        "**Libraries** are ways of extending Python using extra features that aren't built in to basic Python. Some popular ones do things like data visualisation and analysis, but the one we're going to need is for randomness.\n",
        "\n",
        "The **random** library allows you to use extra methods to create (at least the illusion of) randomness in your code, for example choosing a random number. In the example below, random is used with the **choice()** method to choose one of the options from a list each time the code is run.\n",
        "\n",
        "Libraries have to be imported at the start of your code if you want to use them - you'll see in the code below that random is imported using the 'import' keyword at the start of the program."
      ]
    },
    {
      "cell_type": "code",
      "metadata": {
        "id": "RZzC_AV3ZbF_"
      },
      "source": [
        "#proper coin toss program\n",
        "\n",
        "#import random library\n",
        "import random\n",
        "\n",
        "def coin_toss():\n",
        "    #create list\n",
        "    coin = [\"heads\", \"tails\"]\n",
        "\n",
        "    #use .choice() for flip\n",
        "    flip = random.choice(coin)\n",
        "\n",
        "    print(flip)\n",
        "\n",
        "coin_toss()"
      ],
      "execution_count": null,
      "outputs": []
    },
    {
      "cell_type": "markdown",
      "metadata": {
        "id": "hRycRg37DKcy"
      },
      "source": [
        "## Project - improving a program\n",
        "\n",
        "You've reached the end of the workbook! The final task is a project to improve one of the exercises or examples from this workbook, trying to use a range of elements that we've looked at so far.\n",
        "\n",
        "You might already have a creative idea for using some of the features already covered, but if not, here are some ideas and prompts:\n",
        "\n",
        "\n",
        "*   Adapt your chatbot to include some randomnness using the **random** library - you might want to use the choice() method as shown in the coin toss example, or look online for how to use other elements of **random**.\n",
        "*   Add more features to the quiz app, whether that is more questions or using conditions to tell a user if they get a wrong answer before they try again.\n",
        "*   Improve your menu program from Exercise 5 to allow for user input to choose what they'd like to order.\n",
        "*   Try adapting one of the exercises to add a function, and then call that function multiple times.\n",
        "\n",
        "\n",
        "\n"
      ]
    },
    {
      "cell_type": "code",
      "metadata": {
        "id": "kwpw-Mt-Ge0A"
      },
      "source": [
        "# Use this code cell to complete your project\n",
        "# don't forget you can copy and paste parts of other code if you need!\n"
      ],
      "execution_count": null,
      "outputs": []
    }
  ]
}